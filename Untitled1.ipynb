{
 "cells": [
  {
   "cell_type": "code",
   "execution_count": null,
   "id": "c6bcdfc2-ac4a-46bf-82d0-acdef153e28c",
   "metadata": {},
   "outputs": [],
   "source": [
    "Question 1 : Flight Dataset\n",
    "\"C:\\Users\\LAB-USER-01\\Desktop\\exitexam\\dataset1.xlsx\""
   ]
  },
  {
   "cell_type": "code",
   "execution_count": 106,
   "id": "6ce4aed4-96e7-4a64-ac23-5e831191faf5",
   "metadata": {},
   "outputs": [],
   "source": [
    "import pandas as pd"
   ]
  },
  {
   "cell_type": "code",
   "execution_count": 107,
   "id": "4e8c5496-ef80-41dd-a75a-090cb9b005c7",
   "metadata": {},
   "outputs": [],
   "source": [
    "import numpy as np"
   ]
  },
  {
   "cell_type": "code",
   "execution_count": 108,
   "id": "84a2df6b-b0d2-40ff-84db-724057934c9f",
   "metadata": {},
   "outputs": [],
   "source": [
    "df=pd.read_excel(r'C:\\Users\\LAB-USER-01\\Desktop\\exitexam\\dataset1.xlsx')"
   ]
  },
  {
   "cell_type": "code",
   "execution_count": 110,
   "id": "680967de-d4dd-4414-a44c-a7ee1eef2d29",
   "metadata": {},
   "outputs": [
    {
     "data": {
      "text/html": [
       "<div>\n",
       "<style scoped>\n",
       "    .dataframe tbody tr th:only-of-type {\n",
       "        vertical-align: middle;\n",
       "    }\n",
       "\n",
       "    .dataframe tbody tr th {\n",
       "        vertical-align: top;\n",
       "    }\n",
       "\n",
       "    .dataframe thead th {\n",
       "        text-align: right;\n",
       "    }\n",
       "</style>\n",
       "<table border=\"1\" class=\"dataframe\">\n",
       "  <thead>\n",
       "    <tr style=\"text-align: right;\">\n",
       "      <th></th>\n",
       "      <th>Month</th>\n",
       "      <th>DayofMonth</th>\n",
       "      <th>DayOfWeek</th>\n",
       "      <th>DepTime</th>\n",
       "      <th>UniqueCarrier</th>\n",
       "      <th>Origin</th>\n",
       "      <th>Dest</th>\n",
       "      <th>Distance</th>\n",
       "      <th>dep_delayed_15min</th>\n",
       "    </tr>\n",
       "  </thead>\n",
       "  <tbody>\n",
       "    <tr>\n",
       "      <th>0</th>\n",
       "      <td>c-8</td>\n",
       "      <td>c-21</td>\n",
       "      <td>c-7</td>\n",
       "      <td>1934</td>\n",
       "      <td>AA</td>\n",
       "      <td>ATL</td>\n",
       "      <td>DFW</td>\n",
       "      <td>732</td>\n",
       "      <td>N</td>\n",
       "    </tr>\n",
       "    <tr>\n",
       "      <th>1</th>\n",
       "      <td>c-4</td>\n",
       "      <td>c-20</td>\n",
       "      <td>c-3</td>\n",
       "      <td>1548</td>\n",
       "      <td>US</td>\n",
       "      <td>PIT</td>\n",
       "      <td>MCO</td>\n",
       "      <td>834</td>\n",
       "      <td>N</td>\n",
       "    </tr>\n",
       "    <tr>\n",
       "      <th>2</th>\n",
       "      <td>c-9</td>\n",
       "      <td>c-2</td>\n",
       "      <td>c-5</td>\n",
       "      <td>1422</td>\n",
       "      <td>XE</td>\n",
       "      <td>RDU</td>\n",
       "      <td>CLE</td>\n",
       "      <td>416</td>\n",
       "      <td>N</td>\n",
       "    </tr>\n",
       "    <tr>\n",
       "      <th>3</th>\n",
       "      <td>c-11</td>\n",
       "      <td>c-25</td>\n",
       "      <td>c-6</td>\n",
       "      <td>1015</td>\n",
       "      <td>OO</td>\n",
       "      <td>DEN</td>\n",
       "      <td>MEM</td>\n",
       "      <td>872</td>\n",
       "      <td>N</td>\n",
       "    </tr>\n",
       "    <tr>\n",
       "      <th>4</th>\n",
       "      <td>c-10</td>\n",
       "      <td>c-7</td>\n",
       "      <td>c-6</td>\n",
       "      <td>1828</td>\n",
       "      <td>WN</td>\n",
       "      <td>MDW</td>\n",
       "      <td>OMA</td>\n",
       "      <td>423</td>\n",
       "      <td>Y</td>\n",
       "    </tr>\n",
       "  </tbody>\n",
       "</table>\n",
       "</div>"
      ],
      "text/plain": [
       "  Month DayofMonth DayOfWeek  DepTime UniqueCarrier Origin Dest  Distance  \\\n",
       "0   c-8       c-21       c-7     1934            AA    ATL  DFW       732   \n",
       "1   c-4       c-20       c-3     1548            US    PIT  MCO       834   \n",
       "2   c-9        c-2       c-5     1422            XE    RDU  CLE       416   \n",
       "3  c-11       c-25       c-6     1015            OO    DEN  MEM       872   \n",
       "4  c-10        c-7       c-6     1828            WN    MDW  OMA       423   \n",
       "\n",
       "  dep_delayed_15min  \n",
       "0                 N  \n",
       "1                 N  \n",
       "2                 N  \n",
       "3                 N  \n",
       "4                 Y  "
      ]
     },
     "execution_count": 110,
     "metadata": {},
     "output_type": "execute_result"
    }
   ],
   "source": [
    "df.head()"
   ]
  },
  {
   "cell_type": "code",
   "execution_count": 111,
   "id": "b3f4bca1-731a-4a41-9b73-bc2b64e252a3",
   "metadata": {},
   "outputs": [
    {
     "name": "stdout",
     "output_type": "stream",
     "text": [
      "<class 'pandas.core.frame.DataFrame'>\n",
      "RangeIndex: 100000 entries, 0 to 99999\n",
      "Data columns (total 9 columns):\n",
      " #   Column             Non-Null Count   Dtype \n",
      "---  ------             --------------   ----- \n",
      " 0   Month              100000 non-null  object\n",
      " 1   DayofMonth         99995 non-null   object\n",
      " 2   DayOfWeek          100000 non-null  object\n",
      " 3   DepTime            100000 non-null  int64 \n",
      " 4   UniqueCarrier      99996 non-null   object\n",
      " 5   Origin             99996 non-null   object\n",
      " 6   Dest               99999 non-null   object\n",
      " 7   Distance           100000 non-null  int64 \n",
      " 8   dep_delayed_15min  100000 non-null  object\n",
      "dtypes: int64(2), object(7)\n",
      "memory usage: 6.9+ MB\n"
     ]
    }
   ],
   "source": [
    "df.info()"
   ]
  },
  {
   "cell_type": "code",
   "execution_count": 112,
   "id": "be9f427e-fa5e-47b1-ab75-767893463920",
   "metadata": {},
   "outputs": [
    {
     "data": {
      "text/html": [
       "<div>\n",
       "<style scoped>\n",
       "    .dataframe tbody tr th:only-of-type {\n",
       "        vertical-align: middle;\n",
       "    }\n",
       "\n",
       "    .dataframe tbody tr th {\n",
       "        vertical-align: top;\n",
       "    }\n",
       "\n",
       "    .dataframe thead th {\n",
       "        text-align: right;\n",
       "    }\n",
       "</style>\n",
       "<table border=\"1\" class=\"dataframe\">\n",
       "  <thead>\n",
       "    <tr style=\"text-align: right;\">\n",
       "      <th></th>\n",
       "      <th>DepTime</th>\n",
       "      <th>Distance</th>\n",
       "    </tr>\n",
       "  </thead>\n",
       "  <tbody>\n",
       "    <tr>\n",
       "      <th>count</th>\n",
       "      <td>100000.000000</td>\n",
       "      <td>100000.00000</td>\n",
       "    </tr>\n",
       "    <tr>\n",
       "      <th>mean</th>\n",
       "      <td>1341.523880</td>\n",
       "      <td>729.39716</td>\n",
       "    </tr>\n",
       "    <tr>\n",
       "      <th>std</th>\n",
       "      <td>476.378445</td>\n",
       "      <td>574.61686</td>\n",
       "    </tr>\n",
       "    <tr>\n",
       "      <th>min</th>\n",
       "      <td>1.000000</td>\n",
       "      <td>30.00000</td>\n",
       "    </tr>\n",
       "    <tr>\n",
       "      <th>25%</th>\n",
       "      <td>931.000000</td>\n",
       "      <td>317.00000</td>\n",
       "    </tr>\n",
       "    <tr>\n",
       "      <th>50%</th>\n",
       "      <td>1330.000000</td>\n",
       "      <td>575.00000</td>\n",
       "    </tr>\n",
       "    <tr>\n",
       "      <th>75%</th>\n",
       "      <td>1733.000000</td>\n",
       "      <td>957.00000</td>\n",
       "    </tr>\n",
       "    <tr>\n",
       "      <th>max</th>\n",
       "      <td>2534.000000</td>\n",
       "      <td>4962.00000</td>\n",
       "    </tr>\n",
       "  </tbody>\n",
       "</table>\n",
       "</div>"
      ],
      "text/plain": [
       "             DepTime      Distance\n",
       "count  100000.000000  100000.00000\n",
       "mean     1341.523880     729.39716\n",
       "std       476.378445     574.61686\n",
       "min         1.000000      30.00000\n",
       "25%       931.000000     317.00000\n",
       "50%      1330.000000     575.00000\n",
       "75%      1733.000000     957.00000\n",
       "max      2534.000000    4962.00000"
      ]
     },
     "execution_count": 112,
     "metadata": {},
     "output_type": "execute_result"
    }
   ],
   "source": [
    "df.describe()"
   ]
  },
  {
   "cell_type": "code",
   "execution_count": 113,
   "id": "9c66e254-5d15-401c-a8b3-426154a496ba",
   "metadata": {},
   "outputs": [
    {
     "name": "stdout",
     "output_type": "stream",
     "text": [
      "1330.0\n"
     ]
    }
   ],
   "source": [
    "#Calculate the mean, median, and standard deviation for the \"DepTime\" column. What insights can you draw from these measures?print(df['DepTime'].mean())\n",
    "print(df['DepTime'].median())\n"
   ]
  },
  {
   "cell_type": "code",
   "execution_count": 114,
   "id": "98d54780-bf70-4fbe-8648-c89f1f2a4b22",
   "metadata": {},
   "outputs": [
    {
     "name": "stdout",
     "output_type": "stream",
     "text": [
      "476.3784446151376\n"
     ]
    }
   ],
   "source": [
    "print(df['DepTime'].std())"
   ]
  },
  {
   "cell_type": "code",
   "execution_count": 115,
   "id": "a21e3432-2f1d-4f4f-b446-3eeb4d4578ba",
   "metadata": {},
   "outputs": [
    {
     "name": "stdout",
     "output_type": "stream",
     "text": [
      "1341.52388\n"
     ]
    }
   ],
   "source": [
    "print(df['DepTime'].mean())"
   ]
  },
  {
   "cell_type": "code",
   "execution_count": 116,
   "id": "ccfebf5f-439a-4af2-b500-e00bb6d8a8a5",
   "metadata": {},
   "outputs": [],
   "source": [
    "import seaborn as sns"
   ]
  },
  {
   "cell_type": "code",
   "execution_count": 117,
   "id": "00d05978-1f44-4d7e-a99d-d0f1a348b3b2",
   "metadata": {},
   "outputs": [
    {
     "data": {
      "text/plain": [
       "Month                  12\n",
       "DayofMonth             31\n",
       "DayOfWeek               7\n",
       "DepTime              1300\n",
       "UniqueCarrier          22\n",
       "Origin                289\n",
       "Dest                  289\n",
       "Distance             1310\n",
       "dep_delayed_15min       2\n",
       "dtype: int64"
      ]
     },
     "execution_count": 117,
     "metadata": {},
     "output_type": "execute_result"
    }
   ],
   "source": [
    "\n",
    "df.nunique()"
   ]
  },
  {
   "cell_type": "code",
   "execution_count": 118,
   "id": "e5aad19a-b7de-4076-a68b-c818213e8eb8",
   "metadata": {},
   "outputs": [
    {
     "name": "stdout",
     "output_type": "stream",
     "text": [
      "UniqueCarrier\n",
      "WN    15080\n",
      "AA     9418\n",
      "DL     8128\n",
      "MQ     7442\n",
      "OO     7390\n",
      "UA     6876\n",
      "US     6482\n",
      "NW     6402\n",
      "XE     5901\n",
      "OH     4594\n",
      "CO     4334\n",
      "EV     3930\n",
      "FL     3039\n",
      "AS     2222\n",
      "YV     2128\n",
      "B6     1838\n",
      "HP     1378\n",
      "F9     1006\n",
      "DH      966\n",
      "HA      762\n",
      "TZ      446\n",
      "AQ      234\n",
      "Name: count, dtype: int64\n",
      "Carrier with highest flights: ('WN', 15080)\n"
     ]
    }
   ],
   "source": [
    "#Find the distribution of flights across different \"UniqueCarrier.\" Which carrier has the highest number of flights?\n",
    "carrier_distribution = df['UniqueCarrier'].value_counts()\n",
    "highest_carrier = carrier_distribution.idxmax(), carrier_distribution.max()\n",
    "print(carrier_distribution)\n",
    "print(f'Carrier with highest flights: {highest_carrier}')\n"
   ]
  },
  {
   "cell_type": "code",
   "execution_count": 119,
   "id": "10730b5f-6d51-44b6-858b-522224aa448d",
   "metadata": {},
   "outputs": [
    {
     "name": "stdout",
     "output_type": "stream",
     "text": [
      "DayOfWeek\n",
      "c-4    14736\n",
      "c-5    14657\n",
      "c-2    14604\n",
      "c-1    14569\n",
      "c-3    14508\n",
      "c-7    14097\n",
      "c-6    12829\n",
      "Name: count, dtype: int64\n",
      "Day with highest flights: ('c-4', 14736)\n"
     ]
    }
   ],
   "source": [
    "#Analyze the frequency distribution of flights across different \"DayOfWeek.\" Which day of the week has the highest number of flights?\n",
    "day_distribution = df['DayOfWeek'].value_counts()\n",
    "highest_day = day_distribution.idxmax(), day_distribution.max()\n",
    "print(day_distribution)\n",
    "print(f'Day with highest flights: {highest_day}')\n"
   ]
  },
  {
   "cell_type": "code",
   "execution_count": 120,
   "id": "def5b592-b599-4fc2-8b13-81f0553c074b",
   "metadata": {},
   "outputs": [
    {
     "name": "stdout",
     "output_type": "stream",
     "text": [
      "Unique Origin airports: 289\n",
      "Unique Destination airports: 289\n"
     ]
    }
   ],
   "source": [
    "#How many unique \"Origin\" and \"Dest\" airports are present in the dataset?\n",
    "unique_origins = df['Origin'].nunique()\n",
    "unique_dests = df['Dest'].nunique()\n",
    "print(f'Unique Origin airports: {unique_origins}')\n",
    "print(f'Unique Destination airports: {unique_dests}')\n",
    "\n"
   ]
  },
  {
   "cell_type": "code",
   "execution_count": 121,
   "id": "d6a8a357-f44a-4310-a3e4-e85a5e31efa4",
   "metadata": {},
   "outputs": [
    {
     "name": "stdout",
     "output_type": "stream",
     "text": [
      "dep_delayed_15min     Y      N  TotalFlights  DelayPercentage\n",
      "TimeOfDay                                                    \n",
      "Afternoon          7852  29539         37391        20.999706\n",
      "Evening            7400  14740         22140        33.423668\n",
      "Morning            3547  34829         38376         9.242756\n",
      "Night               245   1848          2093        11.705686\n"
     ]
    }
   ],
   "source": [
    "#Group the data by time intervals (e.g., morning, afternoon, evening, night) based on \"DepTime.\" Analyze if certain times of the day have more frequent delays.\n",
    "import pandas as pd\n",
    "import matplotlib.pyplot as plt\n",
    "import seaborn as sns\n",
    "def categorize_time(dep_time):\n",
    "    if 0 <= dep_time < 600:\n",
    "        return 'Night'\n",
    "    elif 600 <= dep_time < 1200:\n",
    "        return 'Morning'\n",
    "    elif 1200 <= dep_time < 1800:\n",
    "        return 'Afternoon'\n",
    "    else:\n",
    "        return 'Evening'\n",
    "df['TimeOfDay'] = df['DepTime'].apply(categorize_time)\n",
    "\n",
    "delay_analysis = df.groupby('TimeOfDay')['dep_delayed_15min'].value_counts().unstack().fillna(0)\n",
    "delay_analysis['TotalFlights'] = delay_analysis.sum(axis=1)\n",
    "delay_analysis['DelayPercentage'] = (delay_analysis['Y'] / delay_analysis['TotalFlights']) * 100\n",
    "\n",
    "print(delay_analysis[['Y', 'N', 'TotalFlights', 'DelayPercentage']])\n"
   ]
  },
  {
   "cell_type": "code",
   "execution_count": 122,
   "id": "b0b643f4-ea3e-4516-8eae-c13e4362ac5b",
   "metadata": {},
   "outputs": [
    {
     "name": "stdout",
     "output_type": "stream",
     "text": [
      "                 Delayed  Not Delayed\n",
      "DepTimeInterval                      \n",
      "Night                246         2154\n",
      "Morning             3577        34689\n",
      "Afternoon           7879        29511\n",
      "Evening             7325        14602\n"
     ]
    }
   ],
   "source": [
    "#Investigate whether there is a pattern in departure times for flights that were delayed (\"dep_delayed_15min\" = 'Y') compared to those that were not.\n",
    "df['DepTimeInterval'] = pd.cut(df['DepTime'], bins=[0, 600, 1200, 1800, 2400], \n",
    "                                labels=['Night', 'Morning', 'Afternoon', 'Evening'])\n",
    "delayed_flights = df[df['dep_delayed_15min'] == 'Y']\n",
    "not_delayed_flights = df[df['dep_delayed_15min'] == 'N']\n",
    "\n",
    "delayed_time_counts = delayed_flights['DepTimeInterval'].value_counts()\n",
    "not_delayed_time_counts = not_delayed_flights['DepTimeInterval'].value_counts()\n",
    "\n",
    "time_comparison = pd.DataFrame({\n",
    "    'Delayed': delayed_time_counts,\n",
    "    'Not Delayed': not_delayed_time_counts\n",
    "}).fillna(0)\n",
    "\n",
    "print(time_comparison)\n"
   ]
  },
  {
   "cell_type": "code",
   "execution_count": 56,
   "id": "68f1d696-2ae6-4722-87ce-74cea7ba5e97",
   "metadata": {},
   "outputs": [
    {
     "data": {
      "image/png": "[encoded data removed]",
      "text/plain": [
       "<Figure size 1000x800 with 2 Axes>"
      ]
     },
     "metadata": {},
     "output_type": "display_data"
    }
   ],
   "source": [
    "#Use a heatmap to show the relationship between \"DayOfWeek\" and \"Month\" with the number of delayed flights. What insights can you derive?\n",
    "delayed_flights_count = df[df['dep_delayed_15min'] == 'Y'].groupby(['DayOfWeek', 'Month']).size().unstack(fill_value=0)\n",
    "plt.figure(figsize=(10, 8))\n",
    "sns.heatmap(delayed_flights_count, annot=True, fmt=\"d\", cmap=\"YlGnBu\")\n",
    "plt.title('Number of Delayed Flights by Day of Week and Month')\n",
    "plt.xlabel('Month')\n",
    "plt.ylabel('Day of Week')\n",
    "plt.show()\n"
   ]
  },
  {
   "cell_type": "code",
   "execution_count": null,
   "id": "06bbbd14-e4fb-4c4a-814a-d095e73959d6",
   "metadata": {},
   "outputs": [],
   "source": []
  },
  {
   "cell_type": "code",
   "execution_count": null,
   "id": "24c33e6a-cdfc-4d1c-9415-600cfb1d24fd",
   "metadata": {},
   "outputs": [],
   "source": [
    "#Question 2 : Beans Dataset\n",
    "\"C:\\Users\\LAB-USER-01\\Desktop\\exitexam\\Dataset2.xlsx\""
   ]
  },
  {
   "cell_type": "code",
   "execution_count": 123,
   "id": "3add4fe9-9aef-4e95-a478-781bb401b509",
   "metadata": {},
   "outputs": [],
   "source": [
    "import pandas as pd"
   ]
  },
  {
   "cell_type": "code",
   "execution_count": 124,
   "id": "1108d4f4-e61d-496b-9378-afdb72533125",
   "metadata": {},
   "outputs": [],
   "source": [
    "import numpy as np"
   ]
  },
  {
   "cell_type": "code",
   "execution_count": 125,
   "id": "a54baa7b-f94c-44da-8cb4-76000d04928a",
   "metadata": {},
   "outputs": [],
   "source": [
    "df=pd.read_excel(r'C:\\Users\\LAB-USER-01\\Desktop\\exitexam\\Dataset2.xlsx')"
   ]
  },
  {
   "cell_type": "code",
   "execution_count": 126,
   "id": "adc6d9c3-e41e-400c-b418-972af4c121a0",
   "metadata": {},
   "outputs": [
    {
     "data": {
      "text/html": [
       "<div>\n",
       "<style scoped>\n",
       "    .dataframe tbody tr th:only-of-type {\n",
       "        vertical-align: middle;\n",
       "    }\n",
       "\n",
       "    .dataframe tbody tr th {\n",
       "        vertical-align: top;\n",
       "    }\n",
       "\n",
       "    .dataframe thead th {\n",
       "        text-align: right;\n",
       "    }\n",
       "</style>\n",
       "<table border=\"1\" class=\"dataframe\">\n",
       "  <thead>\n",
       "    <tr style=\"text-align: right;\">\n",
       "      <th></th>\n",
       "      <th>Area</th>\n",
       "      <th>Perimeter</th>\n",
       "      <th>MajorAxisLength</th>\n",
       "      <th>MinorAxisLength</th>\n",
       "      <th>AspectRation</th>\n",
       "      <th>Eccentricity</th>\n",
       "      <th>ConvexArea</th>\n",
       "      <th>EquivDiameter</th>\n",
       "      <th>Extent</th>\n",
       "      <th>Solidity</th>\n",
       "      <th>roundness</th>\n",
       "      <th>Compactness</th>\n",
       "      <th>ShapeFactor1</th>\n",
       "      <th>ShapeFactor2</th>\n",
       "      <th>ShapeFactor3</th>\n",
       "      <th>ShapeFactor4</th>\n",
       "      <th>Class</th>\n",
       "    </tr>\n",
       "  </thead>\n",
       "  <tbody>\n",
       "    <tr>\n",
       "      <th>0</th>\n",
       "      <td>28395</td>\n",
       "      <td>610.291</td>\n",
       "      <td>208.178117</td>\n",
       "      <td>173.888747</td>\n",
       "      <td>1.197191</td>\n",
       "      <td>0.549812</td>\n",
       "      <td>28715.0</td>\n",
       "      <td>190.141097</td>\n",
       "      <td>0.763923</td>\n",
       "      <td>0.988856</td>\n",
       "      <td>0.958027</td>\n",
       "      <td>0.913358</td>\n",
       "      <td>0.007332</td>\n",
       "      <td>0.003147</td>\n",
       "      <td>0.834222</td>\n",
       "      <td>0.998724</td>\n",
       "      <td>SEKER</td>\n",
       "    </tr>\n",
       "    <tr>\n",
       "      <th>1</th>\n",
       "      <td>28734</td>\n",
       "      <td>638.018</td>\n",
       "      <td>200.524796</td>\n",
       "      <td>182.734419</td>\n",
       "      <td>1.097356</td>\n",
       "      <td>0.411785</td>\n",
       "      <td>29172.0</td>\n",
       "      <td>191.272750</td>\n",
       "      <td>0.783968</td>\n",
       "      <td>0.984986</td>\n",
       "      <td>0.887034</td>\n",
       "      <td>0.953861</td>\n",
       "      <td>0.006979</td>\n",
       "      <td>0.003564</td>\n",
       "      <td>0.909851</td>\n",
       "      <td>0.998430</td>\n",
       "      <td>SEKER</td>\n",
       "    </tr>\n",
       "    <tr>\n",
       "      <th>2</th>\n",
       "      <td>29380</td>\n",
       "      <td>624.110</td>\n",
       "      <td>212.826130</td>\n",
       "      <td>175.931143</td>\n",
       "      <td>1.209713</td>\n",
       "      <td>0.562727</td>\n",
       "      <td>29690.0</td>\n",
       "      <td>193.410904</td>\n",
       "      <td>0.778113</td>\n",
       "      <td>0.989559</td>\n",
       "      <td>0.947849</td>\n",
       "      <td>0.908774</td>\n",
       "      <td>0.007244</td>\n",
       "      <td>0.003048</td>\n",
       "      <td>0.825871</td>\n",
       "      <td>0.999066</td>\n",
       "      <td>SEKER</td>\n",
       "    </tr>\n",
       "    <tr>\n",
       "      <th>3</th>\n",
       "      <td>30008</td>\n",
       "      <td>645.884</td>\n",
       "      <td>210.557999</td>\n",
       "      <td>182.516516</td>\n",
       "      <td>1.153638</td>\n",
       "      <td>0.498616</td>\n",
       "      <td>30724.0</td>\n",
       "      <td>195.467062</td>\n",
       "      <td>0.782681</td>\n",
       "      <td>0.976696</td>\n",
       "      <td>0.903936</td>\n",
       "      <td>0.928329</td>\n",
       "      <td>0.007017</td>\n",
       "      <td>0.003215</td>\n",
       "      <td>0.861794</td>\n",
       "      <td>0.994199</td>\n",
       "      <td>SEKER</td>\n",
       "    </tr>\n",
       "    <tr>\n",
       "      <th>4</th>\n",
       "      <td>30140</td>\n",
       "      <td>620.134</td>\n",
       "      <td>201.847882</td>\n",
       "      <td>190.279279</td>\n",
       "      <td>1.060798</td>\n",
       "      <td>0.333680</td>\n",
       "      <td>30417.0</td>\n",
       "      <td>195.896503</td>\n",
       "      <td>0.773098</td>\n",
       "      <td>0.990893</td>\n",
       "      <td>0.984877</td>\n",
       "      <td>0.970516</td>\n",
       "      <td>0.006697</td>\n",
       "      <td>0.003665</td>\n",
       "      <td>0.941900</td>\n",
       "      <td>0.999166</td>\n",
       "      <td>SEKER</td>\n",
       "    </tr>\n",
       "  </tbody>\n",
       "</table>\n",
       "</div>"
      ],
      "text/plain": [
       "    Area  Perimeter  MajorAxisLength  MinorAxisLength  AspectRation  \\\n",
       "0  28395    610.291       208.178117       173.888747      1.197191   \n",
       "1  28734    638.018       200.524796       182.734419      1.097356   \n",
       "2  29380    624.110       212.826130       175.931143      1.209713   \n",
       "3  30008    645.884       210.557999       182.516516      1.153638   \n",
       "4  30140    620.134       201.847882       190.279279      1.060798   \n",
       "\n",
       "   Eccentricity  ConvexArea  EquivDiameter    Extent  Solidity  roundness  \\\n",
       "0      0.549812     28715.0     190.141097  0.763923  0.988856   0.958027   \n",
       "1      0.411785     29172.0     191.272750  0.783968  0.984986   0.887034   \n",
       "2      0.562727     29690.0     193.410904  0.778113  0.989559   0.947849   \n",
       "3      0.498616     30724.0     195.467062  0.782681  0.976696   0.903936   \n",
       "4      0.333680     30417.0     195.896503  0.773098  0.990893   0.984877   \n",
       "\n",
       "   Compactness  ShapeFactor1  ShapeFactor2  ShapeFactor3  ShapeFactor4  Class  \n",
       "0     0.913358      0.007332      0.003147      0.834222      0.998724  SEKER  \n",
       "1     0.953861      0.006979      0.003564      0.909851      0.998430  SEKER  \n",
       "2     0.908774      0.007244      0.003048      0.825871      0.999066  SEKER  \n",
       "3     0.928329      0.007017      0.003215      0.861794      0.994199  SEKER  \n",
       "4     0.970516      0.006697      0.003665      0.941900      0.999166  SEKER  "
      ]
     },
     "execution_count": 126,
     "metadata": {},
     "output_type": "execute_result"
    }
   ],
   "source": [
    "#data preprocessing\n",
    "df.head()"
   ]
  },
  {
   "cell_type": "code",
   "execution_count": 127,
   "id": "4e1609da-f7a3-456d-8cfd-2090464f40e0",
   "metadata": {},
   "outputs": [
    {
     "name": "stdout",
     "output_type": "stream",
     "text": [
      "<class 'pandas.core.frame.DataFrame'>\n",
      "RangeIndex: 13611 entries, 0 to 13610\n",
      "Data columns (total 17 columns):\n",
      " #   Column           Non-Null Count  Dtype  \n",
      "---  ------           --------------  -----  \n",
      " 0   Area             13611 non-null  int64  \n",
      " 1   Perimeter        13611 non-null  float64\n",
      " 2   MajorAxisLength  13606 non-null  float64\n",
      " 3   MinorAxisLength  13609 non-null  float64\n",
      " 4   AspectRation     13608 non-null  float64\n",
      " 5   Eccentricity     13608 non-null  float64\n",
      " 6   ConvexArea       13610 non-null  float64\n",
      " 7   EquivDiameter    13611 non-null  float64\n",
      " 8   Extent           13608 non-null  float64\n",
      " 9   Solidity         13610 non-null  float64\n",
      " 10  roundness        13608 non-null  float64\n",
      " 11  Compactness      13609 non-null  float64\n",
      " 12  ShapeFactor1     13609 non-null  float64\n",
      " 13  ShapeFactor2     13611 non-null  float64\n",
      " 14  ShapeFactor3     13611 non-null  float64\n",
      " 15  ShapeFactor4     13611 non-null  float64\n",
      " 16  Class            13611 non-null  object \n",
      "dtypes: float64(15), int64(1), object(1)\n",
      "memory usage: 1.8+ MB\n"
     ]
    }
   ],
   "source": [
    "df.info()"
   ]
  },
  {
   "cell_type": "code",
   "execution_count": 128,
   "id": "2b468360-6cd2-4ec1-a3b1-378218bb4a69",
   "metadata": {},
   "outputs": [
    {
     "data": {
      "text/html": [
       "<div>\n",
       "<style scoped>\n",
       "    .dataframe tbody tr th:only-of-type {\n",
       "        vertical-align: middle;\n",
       "    }\n",
       "\n",
       "    .dataframe tbody tr th {\n",
       "        vertical-align: top;\n",
       "    }\n",
       "\n",
       "    .dataframe thead th {\n",
       "        text-align: right;\n",
       "    }\n",
       "</style>\n",
       "<table border=\"1\" class=\"dataframe\">\n",
       "  <thead>\n",
       "    <tr style=\"text-align: right;\">\n",
       "      <th></th>\n",
       "      <th>Area</th>\n",
       "      <th>Perimeter</th>\n",
       "      <th>MajorAxisLength</th>\n",
       "      <th>MinorAxisLength</th>\n",
       "      <th>AspectRation</th>\n",
       "      <th>Eccentricity</th>\n",
       "      <th>ConvexArea</th>\n",
       "      <th>EquivDiameter</th>\n",
       "      <th>Extent</th>\n",
       "      <th>Solidity</th>\n",
       "      <th>roundness</th>\n",
       "      <th>Compactness</th>\n",
       "      <th>ShapeFactor1</th>\n",
       "      <th>ShapeFactor2</th>\n",
       "      <th>ShapeFactor3</th>\n",
       "      <th>ShapeFactor4</th>\n",
       "    </tr>\n",
       "  </thead>\n",
       "  <tbody>\n",
       "    <tr>\n",
       "      <th>count</th>\n",
       "      <td>13611.000000</td>\n",
       "      <td>13611.000000</td>\n",
       "      <td>13606.000000</td>\n",
       "      <td>13609.000000</td>\n",
       "      <td>13608.000000</td>\n",
       "      <td>13608.000000</td>\n",
       "      <td>13610.000000</td>\n",
       "      <td>13611.000000</td>\n",
       "      <td>13608.000000</td>\n",
       "      <td>13610.000000</td>\n",
       "      <td>13608.000000</td>\n",
       "      <td>13609.000000</td>\n",
       "      <td>13609.000000</td>\n",
       "      <td>13611.000000</td>\n",
       "      <td>13611.000000</td>\n",
       "      <td>13611.000000</td>\n",
       "    </tr>\n",
       "    <tr>\n",
       "      <th>mean</th>\n",
       "      <td>53048.284549</td>\n",
       "      <td>855.283459</td>\n",
       "      <td>320.157483</td>\n",
       "      <td>202.271934</td>\n",
       "      <td>1.583306</td>\n",
       "      <td>0.750929</td>\n",
       "      <td>53769.027921</td>\n",
       "      <td>253.064220</td>\n",
       "      <td>0.749727</td>\n",
       "      <td>0.987143</td>\n",
       "      <td>0.873267</td>\n",
       "      <td>0.799845</td>\n",
       "      <td>0.006564</td>\n",
       "      <td>0.001716</td>\n",
       "      <td>0.643590</td>\n",
       "      <td>0.995063</td>\n",
       "    </tr>\n",
       "    <tr>\n",
       "      <th>std</th>\n",
       "      <td>29324.095717</td>\n",
       "      <td>214.289696</td>\n",
       "      <td>85.704732</td>\n",
       "      <td>44.973272</td>\n",
       "      <td>0.246650</td>\n",
       "      <td>0.091961</td>\n",
       "      <td>29775.853140</td>\n",
       "      <td>59.177120</td>\n",
       "      <td>0.049089</td>\n",
       "      <td>0.004660</td>\n",
       "      <td>0.059518</td>\n",
       "      <td>0.061695</td>\n",
       "      <td>0.001128</td>\n",
       "      <td>0.000596</td>\n",
       "      <td>0.098996</td>\n",
       "      <td>0.004366</td>\n",
       "    </tr>\n",
       "    <tr>\n",
       "      <th>min</th>\n",
       "      <td>20420.000000</td>\n",
       "      <td>524.736000</td>\n",
       "      <td>183.601165</td>\n",
       "      <td>122.512653</td>\n",
       "      <td>1.024868</td>\n",
       "      <td>0.218951</td>\n",
       "      <td>20684.000000</td>\n",
       "      <td>161.243764</td>\n",
       "      <td>0.555315</td>\n",
       "      <td>0.919246</td>\n",
       "      <td>0.489618</td>\n",
       "      <td>0.640577</td>\n",
       "      <td>0.002778</td>\n",
       "      <td>0.000564</td>\n",
       "      <td>0.410339</td>\n",
       "      <td>0.947687</td>\n",
       "    </tr>\n",
       "    <tr>\n",
       "      <th>25%</th>\n",
       "      <td>36328.000000</td>\n",
       "      <td>703.523500</td>\n",
       "      <td>253.301679</td>\n",
       "      <td>175.842829</td>\n",
       "      <td>1.432357</td>\n",
       "      <td>0.715952</td>\n",
       "      <td>36713.750000</td>\n",
       "      <td>215.068003</td>\n",
       "      <td>0.718631</td>\n",
       "      <td>0.985670</td>\n",
       "      <td>0.832053</td>\n",
       "      <td>0.762449</td>\n",
       "      <td>0.005900</td>\n",
       "      <td>0.001154</td>\n",
       "      <td>0.581359</td>\n",
       "      <td>0.993703</td>\n",
       "    </tr>\n",
       "    <tr>\n",
       "      <th>50%</th>\n",
       "      <td>44652.000000</td>\n",
       "      <td>794.941000</td>\n",
       "      <td>296.909450</td>\n",
       "      <td>192.431733</td>\n",
       "      <td>1.551132</td>\n",
       "      <td>0.764444</td>\n",
       "      <td>45189.000000</td>\n",
       "      <td>238.438026</td>\n",
       "      <td>0.759830</td>\n",
       "      <td>0.988283</td>\n",
       "      <td>0.883132</td>\n",
       "      <td>0.801243</td>\n",
       "      <td>0.006645</td>\n",
       "      <td>0.001694</td>\n",
       "      <td>0.642044</td>\n",
       "      <td>0.996386</td>\n",
       "    </tr>\n",
       "    <tr>\n",
       "      <th>75%</th>\n",
       "      <td>61332.000000</td>\n",
       "      <td>977.213000</td>\n",
       "      <td>376.507661</td>\n",
       "      <td>217.033886</td>\n",
       "      <td>1.707187</td>\n",
       "      <td>0.810485</td>\n",
       "      <td>62298.500000</td>\n",
       "      <td>279.446467</td>\n",
       "      <td>0.786851</td>\n",
       "      <td>0.990013</td>\n",
       "      <td>0.916853</td>\n",
       "      <td>0.834244</td>\n",
       "      <td>0.007272</td>\n",
       "      <td>0.002170</td>\n",
       "      <td>0.696006</td>\n",
       "      <td>0.997883</td>\n",
       "    </tr>\n",
       "    <tr>\n",
       "      <th>max</th>\n",
       "      <td>254616.000000</td>\n",
       "      <td>1985.370000</td>\n",
       "      <td>738.860153</td>\n",
       "      <td>460.198497</td>\n",
       "      <td>2.430306</td>\n",
       "      <td>0.911423</td>\n",
       "      <td>263261.000000</td>\n",
       "      <td>569.374358</td>\n",
       "      <td>0.866195</td>\n",
       "      <td>0.994677</td>\n",
       "      <td>0.990685</td>\n",
       "      <td>0.987303</td>\n",
       "      <td>0.010451</td>\n",
       "      <td>0.003665</td>\n",
       "      <td>0.974767</td>\n",
       "      <td>0.999733</td>\n",
       "    </tr>\n",
       "  </tbody>\n",
       "</table>\n",
       "</div>"
      ],
      "text/plain": [
       "                Area     Perimeter  MajorAxisLength  MinorAxisLength  \\\n",
       "count   13611.000000  13611.000000     13606.000000     13609.000000   \n",
       "mean    53048.284549    855.283459       320.157483       202.271934   \n",
       "std     29324.095717    214.289696        85.704732        44.973272   \n",
       "min     20420.000000    524.736000       183.601165       122.512653   \n",
       "25%     36328.000000    703.523500       253.301679       175.842829   \n",
       "50%     44652.000000    794.941000       296.909450       192.431733   \n",
       "75%     61332.000000    977.213000       376.507661       217.033886   \n",
       "max    254616.000000   1985.370000       738.860153       460.198497   \n",
       "\n",
       "       AspectRation  Eccentricity     ConvexArea  EquivDiameter        Extent  \\\n",
       "count  13608.000000  13608.000000   13610.000000   13611.000000  13608.000000   \n",
       "mean       1.583306      0.750929   53769.027921     253.064220      0.749727   \n",
       "std        0.246650      0.091961   29775.853140      59.177120      0.049089   \n",
       "min        1.024868      0.218951   20684.000000     161.243764      0.555315   \n",
       "25%        1.432357      0.715952   36713.750000     215.068003      0.718631   \n",
       "50%        1.551132      0.764444   45189.000000     238.438026      0.759830   \n",
       "75%        1.707187      0.810485   62298.500000     279.446467      0.786851   \n",
       "max        2.430306      0.911423  263261.000000     569.374358      0.866195   \n",
       "\n",
       "           Solidity     roundness   Compactness  ShapeFactor1  ShapeFactor2  \\\n",
       "count  13610.000000  13608.000000  13609.000000  13609.000000  13611.000000   \n",
       "mean       0.987143      0.873267      0.799845      0.006564      0.001716   \n",
       "std        0.004660      0.059518      0.061695      0.001128      0.000596   \n",
       "min        0.919246      0.489618      0.640577      0.002778      0.000564   \n",
       "25%        0.985670      0.832053      0.762449      0.005900      0.001154   \n",
       "50%        0.988283      0.883132      0.801243      0.006645      0.001694   \n",
       "75%        0.990013      0.916853      0.834244      0.007272      0.002170   \n",
       "max        0.994677      0.990685      0.987303      0.010451      0.003665   \n",
       "\n",
       "       ShapeFactor3  ShapeFactor4  \n",
       "count  13611.000000  13611.000000  \n",
       "mean       0.643590      0.995063  \n",
       "std        0.098996      0.004366  \n",
       "min        0.410339      0.947687  \n",
       "25%        0.581359      0.993703  \n",
       "50%        0.642044      0.996386  \n",
       "75%        0.696006      0.997883  \n",
       "max        0.974767      0.999733  "
      ]
     },
     "execution_count": 128,
     "metadata": {},
     "output_type": "execute_result"
    }
   ],
   "source": [
    "df.describe()"
   ]
  },
  {
   "cell_type": "code",
   "execution_count": 129,
   "id": "37befa3d-b785-46f2-a420-c90769766b90",
   "metadata": {},
   "outputs": [
    {
     "data": {
      "text/plain": [
       "Index(['Area', 'Perimeter', 'MajorAxisLength', 'MinorAxisLength',\n",
       "       'AspectRation', 'Eccentricity', 'ConvexArea', 'EquivDiameter', 'Extent',\n",
       "       'Solidity', 'roundness', 'Compactness', 'ShapeFactor1', 'ShapeFactor2',\n",
       "       'ShapeFactor3', 'ShapeFactor4', 'Class'],\n",
       "      dtype='object')"
      ]
     },
     "execution_count": 129,
     "metadata": {},
     "output_type": "execute_result"
    }
   ],
   "source": [
    "df.columns"
   ]
  },
  {
   "cell_type": "code",
   "execution_count": 130,
   "id": "5be5ee96-33b2-4ad1-8d33-9e45ccfb4e38",
   "metadata": {},
   "outputs": [
    {
     "name": "stdout",
     "output_type": "stream",
     "text": [
      "Area               0\n",
      "Perimeter          0\n",
      "MajorAxisLength    5\n",
      "MinorAxisLength    2\n",
      "AspectRation       3\n",
      "Eccentricity       3\n",
      "ConvexArea         1\n",
      "EquivDiameter      0\n",
      "Extent             3\n",
      "Solidity           1\n",
      "roundness          3\n",
      "Compactness        2\n",
      "ShapeFactor1       2\n",
      "ShapeFactor2       0\n",
      "ShapeFactor3       0\n",
      "ShapeFactor4       0\n",
      "Class              0\n",
      "dtype: int64\n"
     ]
    }
   ],
   "source": [
    "print(df.isnull().sum())"
   ]
  },
  {
   "cell_type": "code",
   "execution_count": 131,
   "id": "9ebc9633-cd14-480c-9b04-d2df31948eb3",
   "metadata": {},
   "outputs": [],
   "source": [
    "from sklearn.impute import SimpleImputer\n",
    "numerical_features = df.select_dtypes(include=[np.number]).columns\n",
    "num_imputer = SimpleImputer(strategy='mean')\n",
    "df[numerical_features] = num_imputer.fit_transform(df[numerical_features])"
   ]
  },
  {
   "cell_type": "code",
   "execution_count": 132,
   "id": "5227c1f8-cee9-422a-a185-07b6edb09b26",
   "metadata": {},
   "outputs": [],
   "source": [
    "from sklearn.preprocessing import StandardScaler, OneHotEncoder\n",
    "categorical_features = df.select_dtypes(include=[object]).columns\n",
    "cat_imputer = SimpleImputer(strategy='most_frequent')\n",
    "df[categorical_features] = cat_imputer.fit_transform(df[categorical_features])\n"
   ]
  },
  {
   "cell_type": "code",
   "execution_count": 133,
   "id": "490e9581-ba9c-4dc9-8eb1-d1c7d8b4a60c",
   "metadata": {},
   "outputs": [],
   "source": [
    "data = pd.get_dummies(df, columns=categorical_features, drop_first=True)"
   ]
  },
  {
   "cell_type": "code",
   "execution_count": 134,
   "id": "1ef88e58-4fb6-4167-8bc8-0d4d4b0cff6e",
   "metadata": {},
   "outputs": [],
   "source": [
    "scaler = StandardScaler()\n",
    "data[numerical_features] = scaler.fit_transform(data[numerical_features])\n"
   ]
  },
  {
   "cell_type": "code",
   "execution_count": 135,
   "id": "3a891c5f-026b-4a80-907a-6bdbc5b52a0d",
   "metadata": {},
   "outputs": [],
   "source": [
    "X = df.drop('Class', axis=1)\n",
    "y = df['Class']\n"
   ]
  },
  {
   "cell_type": "code",
   "execution_count": 136,
   "id": "8c37cf4f-08e7-426e-b5bb-19cf829a17d3",
   "metadata": {},
   "outputs": [],
   "source": [
    "from sklearn.tree import DecisionTreeClassifier\n",
    "from sklearn.ensemble import RandomForestClassifier\n",
    "from sklearn.svm import SVC"
   ]
  },
  {
   "cell_type": "code",
   "execution_count": 137,
   "id": "1fc64bef-5787-4ed2-bbb6-5a8287b05bbd",
   "metadata": {},
   "outputs": [],
   "source": [
    "from sklearn.model_selection import train_test_split"
   ]
  },
  {
   "cell_type": "code",
   "execution_count": 138,
   "id": "d52aa827-352b-44de-a724-41cfd01ea49a",
   "metadata": {},
   "outputs": [],
   "source": [
    "X_train, X_test, y_train, y_test = train_test_split(X, y, test_size=0.2, random_state=42)\n"
   ]
  },
  {
   "cell_type": "code",
   "execution_count": 139,
   "id": "6eb2f3de-8bf7-4c2a-8dfe-4754a1989415",
   "metadata": {},
   "outputs": [],
   "source": [
    "from sklearn.metrics import classification_report, confusion_matrix, accuracy_score"
   ]
  },
  {
   "cell_type": "code",
   "execution_count": 140,
   "id": "9fa713b6-e16e-4b9c-826c-f93713af1703",
   "metadata": {},
   "outputs": [],
   "source": [
    "#Model Selection and Training\n",
    "models = {\n",
    "    'Decision Tree': DecisionTreeClassifier(),\n",
    "    'Random Forest': RandomForestClassifier(),\n",
    "    'SVM': SVC()\n",
    "}\n",
    "\n",
    "results = {}\n",
    "\n",
    "for model_name, model in models.items():\n",
    "    model.fit(X_train, y_train)\n",
    "    y_pred = model.predict(X_test)\n",
    "    results[model_name] = {\n",
    "        'accuracy': accuracy_score(y_test, y_pred),\n",
    "        'report': classification_report(y_test, y_pred),\n",
    "        'confusion_matrix': confusion_matrix(y_test, y_pred)\n",
    "    }\n"
   ]
  },
  {
   "cell_type": "code",
   "execution_count": 141,
   "id": "2494c48f-720e-47be-b6cc-a79f6b9b1e01",
   "metadata": {},
   "outputs": [],
   "source": [
    "import matplotlib.pyplot as plt\n",
    "import seaborn as sns"
   ]
  },
  {
   "cell_type": "code",
   "execution_count": 142,
   "id": "2c83e850-6d80-43a6-95cc-3464ae03b3e5",
   "metadata": {},
   "outputs": [
    {
     "name": "stdout",
     "output_type": "stream",
     "text": [
      "Model: Decision Tree\n",
      "Accuracy: 0.89\n",
      "Classification Report:\n",
      "              precision    recall  f1-score   support\n",
      "\n",
      "    BARBUNYA       0.86      0.88      0.87       261\n",
      "      BOMBAY       1.00      1.00      1.00       117\n",
      "        CALI       0.89      0.91      0.90       317\n",
      "    DERMASON       0.88      0.88      0.88       671\n",
      "       HOROZ       0.95      0.94      0.94       408\n",
      "       SEKER       0.94      0.92      0.93       413\n",
      "        SIRA       0.83      0.84      0.83       536\n",
      "\n",
      "    accuracy                           0.89      2723\n",
      "   macro avg       0.91      0.91      0.91      2723\n",
      "weighted avg       0.89      0.89      0.89      2723\n",
      "\n"
     ]
    },
    {
     "data": {
      "image/png": "[encoded data removed]",
      "text/plain": [
       "<Figure size 640x480 with 2 Axes>"
      ]
     },
     "metadata": {},
     "output_type": "display_data"
    },
    {
     "name": "stdout",
     "output_type": "stream",
     "text": [
      "Model: Random Forest\n",
      "Accuracy: 0.92\n",
      "Classification Report:\n",
      "              precision    recall  f1-score   support\n",
      "\n",
      "    BARBUNYA       0.92      0.90      0.91       261\n",
      "      BOMBAY       1.00      1.00      1.00       117\n",
      "        CALI       0.92      0.93      0.92       317\n",
      "    DERMASON       0.90      0.92      0.91       671\n",
      "       HOROZ       0.97      0.95      0.96       408\n",
      "       SEKER       0.96      0.94      0.95       413\n",
      "        SIRA       0.87      0.88      0.87       536\n",
      "\n",
      "    accuracy                           0.92      2723\n",
      "   macro avg       0.93      0.93      0.93      2723\n",
      "weighted avg       0.92      0.92      0.92      2723\n",
      "\n"
     ]
    },
    {
     "data": {
      "image/png": "[encoded data removed]",
      "text/plain": [
       "<Figure size 640x480 with 2 Axes>"
      ]
     },
     "metadata": {},
     "output_type": "display_data"
    },
    {
     "name": "stdout",
     "output_type": "stream",
     "text": [
      "Model: SVM\n",
      "Accuracy: 0.63\n",
      "Classification Report:\n",
      "              precision    recall  f1-score   support\n",
      "\n",
      "    BARBUNYA       0.48      0.08      0.14       261\n",
      "      BOMBAY       1.00      1.00      1.00       117\n",
      "        CALI       0.60      0.90      0.72       317\n",
      "    DERMASON       0.74      0.83      0.78       671\n",
      "       HOROZ       0.63      0.59      0.61       408\n",
      "       SEKER       0.40      0.26      0.31       413\n",
      "        SIRA       0.57      0.74      0.64       536\n",
      "\n",
      "    accuracy                           0.63      2723\n",
      "   macro avg       0.63      0.63      0.60      2723\n",
      "weighted avg       0.61      0.63      0.60      2723\n",
      "\n"
     ]
    },
    {
     "data": {
      "image/png": "[encoded data removed]",
      "text/plain": [
       "<Figure size 640x480 with 2 Axes>"
      ]
     },
     "metadata": {},
     "output_type": "display_data"
    }
   ],
   "source": [
    "#Model Evaluation\n",
    "for model_name, metrics in results.items():\n",
    "    print(f\"Model: {model_name}\")\n",
    "    print(f\"Accuracy: {metrics['accuracy']:.2f}\")\n",
    "    print(\"Classification Report:\")\n",
    "    print(metrics['report'])\n",
    "    sns.heatmap(metrics['confusion_matrix'], annot=True, fmt='d')\n",
    "    plt.title(f'Confusion Matrix for {model_name}')\n",
    "    plt.ylabel('Actual')\n",
    "    plt.xlabel('Predicted')\n",
    "    plt.show()"
   ]
  },
  {
   "cell_type": "code",
   "execution_count": null,
   "id": "5496c85d-12db-4a03-9e7e-ed94b1195e58",
   "metadata": {},
   "outputs": [],
   "source": [
    "#random forest classifier is selected because it have high accuracy when compared to decision tree and svc"
   ]
  },
  {
   "cell_type": "code",
   "execution_count": 143,
   "id": "8f50381c-0b59-495a-9c06-a940994501bc",
   "metadata": {},
   "outputs": [],
   "source": [
    "#Feature Importance\n",
    "rf_model = models['Random Forest']\n",
    "feature_importances = rf_model.feature_importances_\n",
    "features = X.columns"
   ]
  },
  {
   "cell_type": "code",
   "execution_count": 144,
   "id": "552c6405-dd5a-4961-90e0-15c6b8991c33",
   "metadata": {},
   "outputs": [],
   "source": [
    "importance_df = pd.DataFrame({'Feature': features, 'Importance': feature_importances})\n",
    "importance_df = importance_df.sort_values(by='Importance', ascending=False)\n"
   ]
  },
  {
   "cell_type": "code",
   "execution_count": 145,
   "id": "16265cc6-96f2-417e-941f-3a763028f8ec",
   "metadata": {},
   "outputs": [
    {
     "data": {
      "text/plain": [
       "<Axes: xlabel='Importance', ylabel='Feature'>"
      ]
     },
     "execution_count": 145,
     "metadata": {},
     "output_type": "execute_result"
    },
    {
     "data": {
      "image/png": "[encoded data removed]",
      "text/plain": [
       "<Figure size 1000x600 with 1 Axes>"
      ]
     },
     "metadata": {},
     "output_type": "display_data"
    }
   ],
   "source": [
    "plt.figure(figsize=(10, 6))\n",
    "sns.barplot(x='Importance', y='Feature', data=importance_df)"
   ]
  },
  {
   "cell_type": "code",
   "execution_count": 146,
   "id": "9db228c3-180b-4d47-9d31-db31f5d827ce",
   "metadata": {},
   "outputs": [
    {
     "name": "stdout",
     "output_type": "stream",
     "text": [
      "Fitting 5 folds for each of 24 candidates, totalling 120 fits\n"
     ]
    },
    {
     "name": "stderr",
     "output_type": "stream",
     "text": [
      "C:\\Users\\LAB-USER-01\\anaconda3\\Lib\\site-packages\\sklearn\\model_selection\\_search.py:1102: UserWarning: One or more of the test scores are non-finite: [nan nan nan nan nan nan nan nan nan nan nan nan nan nan nan nan nan nan\n",
      " nan nan nan nan nan nan]\n",
      "  warnings.warn(\n"
     ]
    },
    {
     "name": "stdout",
     "output_type": "stream",
     "text": [
      "Best Parameters: {'max_depth': None, 'max_features': 'sqrt', 'n_estimators': 50}\n",
      "Best Cross-Validation F1 Score: nan\n",
      "              precision    recall  f1-score   support\n",
      "\n",
      "    BARBUNYA       0.93      0.90      0.92       261\n",
      "      BOMBAY       1.00      1.00      1.00       117\n",
      "        CALI       0.92      0.94      0.93       317\n",
      "    DERMASON       0.89      0.92      0.91       671\n",
      "       HOROZ       0.97      0.95      0.96       408\n",
      "       SEKER       0.96      0.93      0.95       413\n",
      "        SIRA       0.87      0.87      0.87       536\n",
      "\n",
      "    accuracy                           0.92      2723\n",
      "   macro avg       0.94      0.93      0.93      2723\n",
      "weighted avg       0.92      0.92      0.92      2723\n",
      "\n",
      "Test Set Accuracy: 0.9217774513404333\n"
     ]
    }
   ],
   "source": [
    "#Hyperparameter tuning\n",
    "from sklearn.ensemble import RandomForestClassifier\n",
    "from sklearn.model_selection import GridSearchCV\n",
    "\n",
    "rf_model = RandomForestClassifier(random_state=42)\n",
    "\n",
    "param_grid = {\n",
    "    'n_estimators': [50, 100, 200],\n",
    "    'max_depth': [None, 10, 20, 30],\n",
    "    'max_features': ['sqrt', 'log2']\n",
    "}\n",
    "grid_search = GridSearchCV(estimator=rf_model, param_grid=param_grid,\n",
    "                           scoring='f1', cv=5, n_jobs=-1, verbose=2)\n",
    "grid_search.fit(X_train, y_train)\n",
    "\n",
    "\n",
    "\n",
    "best_params = grid_search.best_params_\n",
    "best_score = grid_search.best_score_\n",
    "print(\"Best Parameters:\", best_params)\n",
    "print(\"Best Cross-Validation F1 Score:\", best_score)\n",
    "best_rf_model = grid_search.best_estimator_\n",
    "y_pred = best_rf_model.predict(X_test)\n",
    "\n",
    "print(classification_report(y_test, y_pred))\n",
    "print(\"Test Set Accuracy:\", accuracy_score(y_test, y_pred))\n"
   ]
  }
 ],
 "metadata": {
  "kernelspec": {
   "display_name": "Python 3 (ipykernel)",
   "language": "python",
   "name": "python3"
  },
  "language_info": {
   "codemirror_mode": {
    "name": "ipython",
    "version": 3
   },
   "file_extension": ".py",
   "mimetype": "text/x-python",
   "name": "python",
   "nbconvert_exporter": "python",
   "pygments_lexer": "ipython3",
   "version": "3.12.7"
  }
 },
 "nbformat": 4,
 "nbformat_minor": 5
}
